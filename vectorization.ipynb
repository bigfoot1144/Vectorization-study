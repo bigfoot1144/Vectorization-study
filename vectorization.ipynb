{
 "cells": [
  {
   "cell_type": "code",
   "execution_count": 2,
   "metadata": {},
   "outputs": [
    {
     "name": "stdout",
     "output_type": "stream",
     "text": [
      "classic_dot_product = 104164166675000.0\n",
      "Computation time using loops = 10.511399999999949ms\n",
      "\n",
      "vectorised_dot_product = 104164166675000\n",
      "Computation time using vectorization = 0.6846999999998715ms\n"
     ]
    }
   ],
   "source": [
    "import time\n",
    "import numpy\n",
    "import array\n",
    "# a and b is an array of array with int of 8 bytes size\n",
    "a = array.array('q')\n",
    "for i in range(50000):\n",
    "    a.append(i)\n",
    "b = array.array('q')\n",
    "for i in range(50000, 100000):\n",
    "    b.append(i)\n",
    "# classic dot product of vectors implementation\n",
    "start_time = time.process_time()\n",
    "classic_dot_product = 0.0\n",
    "for i in range(len(a)):\n",
    "    classic_dot_product += a[i] * b[i]\n",
    "end_time = time.process_time()\n",
    "print(\"classic_dot_product = \"+ str(classic_dot_product))\n",
    "print(\"Computation time using loops = \" + str(1000*(end_time-start_time)) + \"ms\")\n",
    "vectorised_start_time = time.process_time()\n",
    "vectorised_dot_product = numpy.dot(a, b)\n",
    "vectorised_end_time = time.process_time()\n",
    "print(\"\\nvectorised_dot_product = \"+str(vectorised_dot_product))\n",
    "print(\"Computation time using vectorization = \"+str(1000*(vectorised_end_time-vectorised_start_time))+\"ms\")"
   ]
  }
 ],
 "metadata": {
  "kernelspec": {
   "display_name": "torch-base",
   "language": "python",
   "name": "python3"
  },
  "language_info": {
   "codemirror_mode": {
    "name": "ipython",
    "version": 3
   },
   "file_extension": ".py",
   "mimetype": "text/x-python",
   "name": "python",
   "nbconvert_exporter": "python",
   "pygments_lexer": "ipython3",
   "version": "3.10.13"
  }
 },
 "nbformat": 4,
 "nbformat_minor": 2
}
